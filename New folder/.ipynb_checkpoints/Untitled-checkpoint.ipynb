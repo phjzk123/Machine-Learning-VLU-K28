{
 "cells": [
  {
   "cell_type": "code",
   "execution_count": null,
   "id": "e9210992-c736-4aec-a6b3-0ee98c94fc40",
   "metadata": {},
   "outputs": [],
   "source": [
    "print(\"Văn Lang\")"
   ]
  }
 ],
 "metadata": {
  "kernelspec": {
   "display_name": "Python 3 (ipykernel)",
   "language": "python",
   "name": "python3"
  },
  "language_info": {
   "codemirror_mode": {
    "name": "ipython",
    "version": 3
   },
   "file_extension": ".py",
   "mimetype": "text/x-python",
   "name": "python",
   "nbconvert_exporter": "python",
   "pygments_lexer": "ipython3",
   "version": "3.12.3"
  }
 },
 "nbformat": 4,
 "nbformat_minor": 5
}
